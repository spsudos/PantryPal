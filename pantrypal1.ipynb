{
  "nbformat": 4,
  "nbformat_minor": 0,
  "metadata": {
    "colab": {
      "provenance": []
    },
    "kernelspec": {
      "name": "python3",
      "display_name": "Python 3"
    },
    "language_info": {
      "name": "python"
    }
  },
  "cells": [
    {
      "cell_type": "markdown",
      "source": [
        "# Library"
      ],
      "metadata": {
        "id": "vGhDM-TVKHue"
      }
    },
    {
      "cell_type": "code",
      "execution_count": 27,
      "metadata": {
        "id": "GMdErzmjRKqs"
      },
      "outputs": [],
      "source": [
        "import pickle\n",
        "\n",
        "import pandas as pd\n",
        "from sklearn.cluster import KMeans\n",
        "from sklearn.feature_extraction.text import TfidfVectorizer\n",
        "from sklearn.metrics.pairwise import cosine_similarity"
      ]
    },
    {
      "cell_type": "markdown",
      "source": [
        "# Load Data"
      ],
      "metadata": {
        "id": "oL1ySGL8KMfO"
      }
    },
    {
      "cell_type": "code",
      "source": [
        "from google.colab import drive\n",
        "drive.mount('/content/drive')"
      ],
      "metadata": {
        "colab": {
          "base_uri": "https://localhost:8080/"
        },
        "id": "YyCkEqnFRi7T",
        "outputId": "1b6058d1-c1f3-4ace-e82b-1df8834d9b2d"
      },
      "execution_count": 2,
      "outputs": [
        {
          "output_type": "stream",
          "name": "stdout",
          "text": [
            "Mounted at /content/drive\n"
          ]
        }
      ]
    },
    {
      "cell_type": "code",
      "source": [
        "# Load data into a pandas DataFrame\n",
        "# Pastiin pathnya sesuai sama file nya dimana ya\n",
        "a = pd.read_csv('/content/drive/MyDrive/Capstone Project/dataset-ayam.csv')\n",
        "b = pd.read_csv('/content/drive/MyDrive/Capstone Project/dataset-ikan.csv')\n",
        "c = pd.read_csv('/content/drive/MyDrive/Capstone Project/dataset-sapi.csv')\n",
        "d = pd.read_csv('/content/drive/MyDrive/Capstone Project/dataset-tahu.csv')\n",
        "e = pd.read_csv('/content/drive/MyDrive/Capstone Project/dataset-telur.csv')\n",
        "f = pd.read_csv('/content/drive/MyDrive/Capstone Project/dataset-tempe.csv')\n",
        "g = pd.read_csv('/content/drive/MyDrive/Capstone Project/dataset-udang.csv')"
      ],
      "metadata": {
        "id": "m6E1FQzQRkS_"
      },
      "execution_count": 3,
      "outputs": []
    },
    {
      "cell_type": "code",
      "source": [
        "ayam = pd.DataFrame(a)\n",
        "ikan = pd.DataFrame(b)\n",
        "sapi = pd.DataFrame(c)\n",
        "tahu = pd.DataFrame(d)\n",
        "telur = pd.DataFrame(e)\n",
        "tempe = pd.DataFrame(f)\n",
        "udang = pd.DataFrame(g)"
      ],
      "metadata": {
        "id": "Ll1ywE7KR9tD"
      },
      "execution_count": 4,
      "outputs": []
    },
    {
      "cell_type": "code",
      "source": [
        "indofood = pd.concat([ayam, ikan, sapi, tahu, telur, tempe, udang])\n",
        "indofood = pd.DataFrame(indofood)"
      ],
      "metadata": {
        "id": "JRscrCgsRlT7"
      },
      "execution_count": 5,
      "outputs": []
    },
    {
      "cell_type": "markdown",
      "source": [
        "# Check for Null Data and Clean It\n"
      ],
      "metadata": {
        "id": "9TBZ3RXxKZWk"
      }
    },
    {
      "cell_type": "code",
      "source": [
        "indofood.isnull().sum().sum()"
      ],
      "metadata": {
        "colab": {
          "base_uri": "https://localhost:8080/"
        },
        "id": "goYzI5TDTqvE",
        "outputId": "29efcd63-0681-48ba-be6c-890977639594"
      },
      "execution_count": 6,
      "outputs": [
        {
          "output_type": "execute_result",
          "data": {
            "text/plain": [
              "68"
            ]
          },
          "metadata": {},
          "execution_count": 6
        }
      ]
    },
    {
      "cell_type": "code",
      "source": [
        "print(indofood.isnull().sum())"
      ],
      "metadata": {
        "colab": {
          "base_uri": "https://localhost:8080/"
        },
        "id": "VaGXQJ_RTs2W",
        "outputId": "489d66ff-f211-41be-a1ad-acb506d00fbb"
      },
      "execution_count": 7,
      "outputs": [
        {
          "output_type": "stream",
          "name": "stdout",
          "text": [
            "Title           0\n",
            "Ingredients    35\n",
            "Steps          33\n",
            "Loves           0\n",
            "URL             0\n",
            "dtype: int64\n"
          ]
        }
      ]
    },
    {
      "cell_type": "code",
      "source": [
        "df_clean = indofood.dropna()\n",
        "print(len(df_clean))"
      ],
      "metadata": {
        "colab": {
          "base_uri": "https://localhost:8080/"
        },
        "id": "CrMIth9OTujL",
        "outputId": "da658c8c-4913-4bd0-81a7-4d3cbea27498"
      },
      "execution_count": 8,
      "outputs": [
        {
          "output_type": "stream",
          "name": "stdout",
          "text": [
            "13710\n"
          ]
        }
      ]
    },
    {
      "cell_type": "code",
      "source": [
        "indofood_new = pd.DataFrame(df_clean)"
      ],
      "metadata": {
        "id": "cZrum04RTwj_"
      },
      "execution_count": 9,
      "outputs": []
    },
    {
      "cell_type": "code",
      "source": [
        "indofood_new.isnull().sum().sum()"
      ],
      "metadata": {
        "colab": {
          "base_uri": "https://localhost:8080/"
        },
        "id": "a3EiPizAT0SF",
        "outputId": "616d2fb8-59c8-42e9-9541-96242e75c51a"
      },
      "execution_count": 10,
      "outputs": [
        {
          "output_type": "execute_result",
          "data": {
            "text/plain": [
              "0"
            ]
          },
          "metadata": {},
          "execution_count": 10
        }
      ]
    },
    {
      "cell_type": "markdown",
      "source": [
        "# Clustering with K-Means\n"
      ],
      "metadata": {
        "id": "ecXWKFqnKkGu"
      }
    },
    {
      "cell_type": "code",
      "source": [
        "indofood_new['text'] = indofood_new[['Title', 'Ingredients', 'Steps']].apply(lambda x: ' '.join(x), axis=1)"
      ],
      "metadata": {
        "id": "i1qY-X2AT7Ya"
      },
      "execution_count": 14,
      "outputs": []
    },
    {
      "cell_type": "code",
      "source": [
        "vectorizer = TfidfVectorizer()\n",
        "X = vectorizer.fit_transform(indofood_new['text'])"
      ],
      "metadata": {
        "id": "tagBM371T8oL"
      },
      "execution_count": 15,
      "outputs": []
    },
    {
      "cell_type": "code",
      "source": [
        "kmeans = KMeans(n_clusters=3, random_state=0)\n",
        "kmeans.fit(X)"
      ],
      "metadata": {
        "colab": {
          "base_uri": "https://localhost:8080/",
          "height": 129
        },
        "id": "bjL5dbY2T-I2",
        "outputId": "2297fe99-3675-452c-e418-7593207eef41"
      },
      "execution_count": 16,
      "outputs": [
        {
          "output_type": "stream",
          "name": "stderr",
          "text": [
            "/usr/local/lib/python3.10/dist-packages/sklearn/cluster/_kmeans.py:870: FutureWarning: The default value of `n_init` will change from 10 to 'auto' in 1.4. Set the value of `n_init` explicitly to suppress the warning\n",
            "  warnings.warn(\n"
          ]
        },
        {
          "output_type": "execute_result",
          "data": {
            "text/plain": [
              "KMeans(n_clusters=3, random_state=0)"
            ],
            "text/html": [
              "<style>#sk-container-id-1 {color: black;background-color: white;}#sk-container-id-1 pre{padding: 0;}#sk-container-id-1 div.sk-toggleable {background-color: white;}#sk-container-id-1 label.sk-toggleable__label {cursor: pointer;display: block;width: 100%;margin-bottom: 0;padding: 0.3em;box-sizing: border-box;text-align: center;}#sk-container-id-1 label.sk-toggleable__label-arrow:before {content: \"▸\";float: left;margin-right: 0.25em;color: #696969;}#sk-container-id-1 label.sk-toggleable__label-arrow:hover:before {color: black;}#sk-container-id-1 div.sk-estimator:hover label.sk-toggleable__label-arrow:before {color: black;}#sk-container-id-1 div.sk-toggleable__content {max-height: 0;max-width: 0;overflow: hidden;text-align: left;background-color: #f0f8ff;}#sk-container-id-1 div.sk-toggleable__content pre {margin: 0.2em;color: black;border-radius: 0.25em;background-color: #f0f8ff;}#sk-container-id-1 input.sk-toggleable__control:checked~div.sk-toggleable__content {max-height: 200px;max-width: 100%;overflow: auto;}#sk-container-id-1 input.sk-toggleable__control:checked~label.sk-toggleable__label-arrow:before {content: \"▾\";}#sk-container-id-1 div.sk-estimator input.sk-toggleable__control:checked~label.sk-toggleable__label {background-color: #d4ebff;}#sk-container-id-1 div.sk-label input.sk-toggleable__control:checked~label.sk-toggleable__label {background-color: #d4ebff;}#sk-container-id-1 input.sk-hidden--visually {border: 0;clip: rect(1px 1px 1px 1px);clip: rect(1px, 1px, 1px, 1px);height: 1px;margin: -1px;overflow: hidden;padding: 0;position: absolute;width: 1px;}#sk-container-id-1 div.sk-estimator {font-family: monospace;background-color: #f0f8ff;border: 1px dotted black;border-radius: 0.25em;box-sizing: border-box;margin-bottom: 0.5em;}#sk-container-id-1 div.sk-estimator:hover {background-color: #d4ebff;}#sk-container-id-1 div.sk-parallel-item::after {content: \"\";width: 100%;border-bottom: 1px solid gray;flex-grow: 1;}#sk-container-id-1 div.sk-label:hover label.sk-toggleable__label {background-color: #d4ebff;}#sk-container-id-1 div.sk-serial::before {content: \"\";position: absolute;border-left: 1px solid gray;box-sizing: border-box;top: 0;bottom: 0;left: 50%;z-index: 0;}#sk-container-id-1 div.sk-serial {display: flex;flex-direction: column;align-items: center;background-color: white;padding-right: 0.2em;padding-left: 0.2em;position: relative;}#sk-container-id-1 div.sk-item {position: relative;z-index: 1;}#sk-container-id-1 div.sk-parallel {display: flex;align-items: stretch;justify-content: center;background-color: white;position: relative;}#sk-container-id-1 div.sk-item::before, #sk-container-id-1 div.sk-parallel-item::before {content: \"\";position: absolute;border-left: 1px solid gray;box-sizing: border-box;top: 0;bottom: 0;left: 50%;z-index: -1;}#sk-container-id-1 div.sk-parallel-item {display: flex;flex-direction: column;z-index: 1;position: relative;background-color: white;}#sk-container-id-1 div.sk-parallel-item:first-child::after {align-self: flex-end;width: 50%;}#sk-container-id-1 div.sk-parallel-item:last-child::after {align-self: flex-start;width: 50%;}#sk-container-id-1 div.sk-parallel-item:only-child::after {width: 0;}#sk-container-id-1 div.sk-dashed-wrapped {border: 1px dashed gray;margin: 0 0.4em 0.5em 0.4em;box-sizing: border-box;padding-bottom: 0.4em;background-color: white;}#sk-container-id-1 div.sk-label label {font-family: monospace;font-weight: bold;display: inline-block;line-height: 1.2em;}#sk-container-id-1 div.sk-label-container {text-align: center;}#sk-container-id-1 div.sk-container {/* jupyter's `normalize.less` sets `[hidden] { display: none; }` but bootstrap.min.css set `[hidden] { display: none !important; }` so we also need the `!important` here to be able to override the default hidden behavior on the sphinx rendered scikit-learn.org. See: https://github.com/scikit-learn/scikit-learn/issues/21755 */display: inline-block !important;position: relative;}#sk-container-id-1 div.sk-text-repr-fallback {display: none;}</style><div id=\"sk-container-id-1\" class=\"sk-top-container\"><div class=\"sk-text-repr-fallback\"><pre>KMeans(n_clusters=3, random_state=0)</pre><b>In a Jupyter environment, please rerun this cell to show the HTML representation or trust the notebook. <br />On GitHub, the HTML representation is unable to render, please try loading this page with nbviewer.org.</b></div><div class=\"sk-container\" hidden><div class=\"sk-item\"><div class=\"sk-estimator sk-toggleable\"><input class=\"sk-toggleable__control sk-hidden--visually\" id=\"sk-estimator-id-1\" type=\"checkbox\" checked><label for=\"sk-estimator-id-1\" class=\"sk-toggleable__label sk-toggleable__label-arrow\">KMeans</label><div class=\"sk-toggleable__content\"><pre>KMeans(n_clusters=3, random_state=0)</pre></div></div></div></div></div>"
            ]
          },
          "metadata": {},
          "execution_count": 16
        }
      ]
    },
    {
      "cell_type": "code",
      "source": [
        "mse = kmeans.inertia_\n",
        "print(\"Mean Squared Error (MSE):\", mse)"
      ],
      "metadata": {
        "colab": {
          "base_uri": "https://localhost:8080/"
        },
        "id": "njOVttQvNCyc",
        "outputId": "c93b8ec1-4277-4e27-c9fe-c60538e04325"
      },
      "execution_count": 37,
      "outputs": [
        {
          "output_type": "stream",
          "name": "stdout",
          "text": [
            "Mean Squared Error (MSE): 11865.752781739964\n"
          ]
        }
      ]
    },
    {
      "cell_type": "code",
      "source": [
        "labels = kmeans.labels_"
      ],
      "metadata": {
        "id": "e__ZpWCFUGCR"
      },
      "execution_count": 17,
      "outputs": []
    },
    {
      "cell_type": "code",
      "source": [
        "indofood_new['category'] = labels\n",
        "\n",
        "# Membagi dataframe berdasarkan kategori\n",
        "kategori_murah = indofood_new[indofood_new['category'] == 0]\n",
        "kategori_terjangkau = indofood_new[indofood_new['category'] == 1]\n",
        "kategori_mahal = indofood_new[indofood_new['category'] == 2]"
      ],
      "metadata": {
        "id": "uhLYE5csUIUn"
      },
      "execution_count": 18,
      "outputs": []
    },
    {
      "cell_type": "code",
      "source": [
        "indofood_new.head()"
      ],
      "metadata": {
        "colab": {
          "base_uri": "https://localhost:8080/",
          "height": 337
        },
        "id": "6dVkrESvULUP",
        "outputId": "fb73b085-d4da-4bcb-bac8-d217286f2bdd"
      },
      "execution_count": 19,
      "outputs": [
        {
          "output_type": "execute_result",
          "data": {
            "text/plain": [
              "                      Title  \\\n",
              "0          Ayam Woku Manado   \n",
              "1  Ayam goreng tulang lunak   \n",
              "2          Ayam cabai kawin   \n",
              "3               Ayam Geprek   \n",
              "4               Minyak Ayam   \n",
              "\n",
              "                                         Ingredients  \\\n",
              "0  1 Ekor Ayam Kampung (potong 12)--2 Buah Jeruk ...   \n",
              "1  1 kg ayam (dipotong sesuai selera jangan kecil...   \n",
              "2  1/4 kg ayam--3 buah cabai hijau besar--7 buah ...   \n",
              "3  250 gr daging ayam (saya pakai fillet)--Secuku...   \n",
              "4  400 gr kulit ayam & lemaknya--8 siung bawang p...   \n",
              "\n",
              "                                               Steps  Loves  \\\n",
              "0  Cuci bersih ayam dan tiriskan. Lalu peras jeru...      1   \n",
              "1  Haluskan bumbu2nya (BaPut, ketumbar, kemiri, k...      1   \n",
              "2  Panaskan minyak di dalam wajan. Setelah minyak...      2   \n",
              "3  Goreng ayam seperti ayam krispi--Ulek semua ba...     10   \n",
              "4  Cuci bersih kulit ayam. Sisihkan--Ambil 50 ml ...      4   \n",
              "\n",
              "                                          URL  \\\n",
              "0          /id/resep/4473027-ayam-woku-manado   \n",
              "1  /id/resep/4471956-ayam-goreng-tulang-lunak   \n",
              "2          /id/resep/4473057-ayam-cabai-kawin   \n",
              "3               /id/resep/4473023-ayam-geprek   \n",
              "4               /id/resep/4427438-minyak-ayam   \n",
              "\n",
              "                                                text  category  \n",
              "0  Ayam Woku Manado 1 Ekor Ayam Kampung (potong 1...         1  \n",
              "1  Ayam goreng tulang lunak 1 kg ayam (dipotong s...         1  \n",
              "2  Ayam cabai kawin 1/4 kg ayam--3 buah cabai hij...         1  \n",
              "3  Ayam Geprek 250 gr daging ayam (saya pakai fil...         1  \n",
              "4  Minyak Ayam 400 gr kulit ayam & lemaknya--8 si...         1  "
            ],
            "text/html": [
              "\n",
              "  <div id=\"df-3f31d72c-dfd9-4ba8-abbf-52c08c401cd1\">\n",
              "    <div class=\"colab-df-container\">\n",
              "      <div>\n",
              "<style scoped>\n",
              "    .dataframe tbody tr th:only-of-type {\n",
              "        vertical-align: middle;\n",
              "    }\n",
              "\n",
              "    .dataframe tbody tr th {\n",
              "        vertical-align: top;\n",
              "    }\n",
              "\n",
              "    .dataframe thead th {\n",
              "        text-align: right;\n",
              "    }\n",
              "</style>\n",
              "<table border=\"1\" class=\"dataframe\">\n",
              "  <thead>\n",
              "    <tr style=\"text-align: right;\">\n",
              "      <th></th>\n",
              "      <th>Title</th>\n",
              "      <th>Ingredients</th>\n",
              "      <th>Steps</th>\n",
              "      <th>Loves</th>\n",
              "      <th>URL</th>\n",
              "      <th>text</th>\n",
              "      <th>category</th>\n",
              "    </tr>\n",
              "  </thead>\n",
              "  <tbody>\n",
              "    <tr>\n",
              "      <th>0</th>\n",
              "      <td>Ayam Woku Manado</td>\n",
              "      <td>1 Ekor Ayam Kampung (potong 12)--2 Buah Jeruk ...</td>\n",
              "      <td>Cuci bersih ayam dan tiriskan. Lalu peras jeru...</td>\n",
              "      <td>1</td>\n",
              "      <td>/id/resep/4473027-ayam-woku-manado</td>\n",
              "      <td>Ayam Woku Manado 1 Ekor Ayam Kampung (potong 1...</td>\n",
              "      <td>1</td>\n",
              "    </tr>\n",
              "    <tr>\n",
              "      <th>1</th>\n",
              "      <td>Ayam goreng tulang lunak</td>\n",
              "      <td>1 kg ayam (dipotong sesuai selera jangan kecil...</td>\n",
              "      <td>Haluskan bumbu2nya (BaPut, ketumbar, kemiri, k...</td>\n",
              "      <td>1</td>\n",
              "      <td>/id/resep/4471956-ayam-goreng-tulang-lunak</td>\n",
              "      <td>Ayam goreng tulang lunak 1 kg ayam (dipotong s...</td>\n",
              "      <td>1</td>\n",
              "    </tr>\n",
              "    <tr>\n",
              "      <th>2</th>\n",
              "      <td>Ayam cabai kawin</td>\n",
              "      <td>1/4 kg ayam--3 buah cabai hijau besar--7 buah ...</td>\n",
              "      <td>Panaskan minyak di dalam wajan. Setelah minyak...</td>\n",
              "      <td>2</td>\n",
              "      <td>/id/resep/4473057-ayam-cabai-kawin</td>\n",
              "      <td>Ayam cabai kawin 1/4 kg ayam--3 buah cabai hij...</td>\n",
              "      <td>1</td>\n",
              "    </tr>\n",
              "    <tr>\n",
              "      <th>3</th>\n",
              "      <td>Ayam Geprek</td>\n",
              "      <td>250 gr daging ayam (saya pakai fillet)--Secuku...</td>\n",
              "      <td>Goreng ayam seperti ayam krispi--Ulek semua ba...</td>\n",
              "      <td>10</td>\n",
              "      <td>/id/resep/4473023-ayam-geprek</td>\n",
              "      <td>Ayam Geprek 250 gr daging ayam (saya pakai fil...</td>\n",
              "      <td>1</td>\n",
              "    </tr>\n",
              "    <tr>\n",
              "      <th>4</th>\n",
              "      <td>Minyak Ayam</td>\n",
              "      <td>400 gr kulit ayam &amp; lemaknya--8 siung bawang p...</td>\n",
              "      <td>Cuci bersih kulit ayam. Sisihkan--Ambil 50 ml ...</td>\n",
              "      <td>4</td>\n",
              "      <td>/id/resep/4427438-minyak-ayam</td>\n",
              "      <td>Minyak Ayam 400 gr kulit ayam &amp; lemaknya--8 si...</td>\n",
              "      <td>1</td>\n",
              "    </tr>\n",
              "  </tbody>\n",
              "</table>\n",
              "</div>\n",
              "      <button class=\"colab-df-convert\" onclick=\"convertToInteractive('df-3f31d72c-dfd9-4ba8-abbf-52c08c401cd1')\"\n",
              "              title=\"Convert this dataframe to an interactive table.\"\n",
              "              style=\"display:none;\">\n",
              "        \n",
              "  <svg xmlns=\"http://www.w3.org/2000/svg\" height=\"24px\"viewBox=\"0 0 24 24\"\n",
              "       width=\"24px\">\n",
              "    <path d=\"M0 0h24v24H0V0z\" fill=\"none\"/>\n",
              "    <path d=\"M18.56 5.44l.94 2.06.94-2.06 2.06-.94-2.06-.94-.94-2.06-.94 2.06-2.06.94zm-11 1L8.5 8.5l.94-2.06 2.06-.94-2.06-.94L8.5 2.5l-.94 2.06-2.06.94zm10 10l.94 2.06.94-2.06 2.06-.94-2.06-.94-.94-2.06-.94 2.06-2.06.94z\"/><path d=\"M17.41 7.96l-1.37-1.37c-.4-.4-.92-.59-1.43-.59-.52 0-1.04.2-1.43.59L10.3 9.45l-7.72 7.72c-.78.78-.78 2.05 0 2.83L4 21.41c.39.39.9.59 1.41.59.51 0 1.02-.2 1.41-.59l7.78-7.78 2.81-2.81c.8-.78.8-2.07 0-2.86zM5.41 20L4 18.59l7.72-7.72 1.47 1.35L5.41 20z\"/>\n",
              "  </svg>\n",
              "      </button>\n",
              "      \n",
              "  <style>\n",
              "    .colab-df-container {\n",
              "      display:flex;\n",
              "      flex-wrap:wrap;\n",
              "      gap: 12px;\n",
              "    }\n",
              "\n",
              "    .colab-df-convert {\n",
              "      background-color: #E8F0FE;\n",
              "      border: none;\n",
              "      border-radius: 50%;\n",
              "      cursor: pointer;\n",
              "      display: none;\n",
              "      fill: #1967D2;\n",
              "      height: 32px;\n",
              "      padding: 0 0 0 0;\n",
              "      width: 32px;\n",
              "    }\n",
              "\n",
              "    .colab-df-convert:hover {\n",
              "      background-color: #E2EBFA;\n",
              "      box-shadow: 0px 1px 2px rgba(60, 64, 67, 0.3), 0px 1px 3px 1px rgba(60, 64, 67, 0.15);\n",
              "      fill: #174EA6;\n",
              "    }\n",
              "\n",
              "    [theme=dark] .colab-df-convert {\n",
              "      background-color: #3B4455;\n",
              "      fill: #D2E3FC;\n",
              "    }\n",
              "\n",
              "    [theme=dark] .colab-df-convert:hover {\n",
              "      background-color: #434B5C;\n",
              "      box-shadow: 0px 1px 3px 1px rgba(0, 0, 0, 0.15);\n",
              "      filter: drop-shadow(0px 1px 2px rgba(0, 0, 0, 0.3));\n",
              "      fill: #FFFFFF;\n",
              "    }\n",
              "  </style>\n",
              "\n",
              "      <script>\n",
              "        const buttonEl =\n",
              "          document.querySelector('#df-3f31d72c-dfd9-4ba8-abbf-52c08c401cd1 button.colab-df-convert');\n",
              "        buttonEl.style.display =\n",
              "          google.colab.kernel.accessAllowed ? 'block' : 'none';\n",
              "\n",
              "        async function convertToInteractive(key) {\n",
              "          const element = document.querySelector('#df-3f31d72c-dfd9-4ba8-abbf-52c08c401cd1');\n",
              "          const dataTable =\n",
              "            await google.colab.kernel.invokeFunction('convertToInteractive',\n",
              "                                                     [key], {});\n",
              "          if (!dataTable) return;\n",
              "\n",
              "          const docLinkHtml = 'Like what you see? Visit the ' +\n",
              "            '<a target=\"_blank\" href=https://colab.research.google.com/notebooks/data_table.ipynb>data table notebook</a>'\n",
              "            + ' to learn more about interactive tables.';\n",
              "          element.innerHTML = '';\n",
              "          dataTable['output_type'] = 'display_data';\n",
              "          await google.colab.output.renderOutput(dataTable, element);\n",
              "          const docLink = document.createElement('div');\n",
              "          docLink.innerHTML = docLinkHtml;\n",
              "          element.appendChild(docLink);\n",
              "        }\n",
              "      </script>\n",
              "    </div>\n",
              "  </div>\n",
              "  "
            ]
          },
          "metadata": {},
          "execution_count": 19
        }
      ]
    },
    {
      "cell_type": "markdown",
      "source": [
        "# Decode Category Column\n"
      ],
      "metadata": {
        "id": "1Zi3nWS1KsPl"
      }
    },
    {
      "cell_type": "code",
      "source": [
        "decode_map = {0: \"Murah\", 1: \"Terjangkau\", 2: \"Mahal\"}\n",
        "def decode_category(label):\n",
        "    return decode_map[int(label)]\n",
        "\n",
        "indofood_new.category = indofood_new.category.apply(lambda x: decode_category(x))"
      ],
      "metadata": {
        "id": "MD9kmGWjUP0B"
      },
      "execution_count": 20,
      "outputs": []
    },
    {
      "cell_type": "code",
      "source": [
        "indofood_new.head()"
      ],
      "metadata": {
        "colab": {
          "base_uri": "https://localhost:8080/",
          "height": 337
        },
        "id": "89w5dkV2VQrS",
        "outputId": "0ea4e4ff-36a1-4b6c-b760-c88b05df0130"
      },
      "execution_count": 21,
      "outputs": [
        {
          "output_type": "execute_result",
          "data": {
            "text/plain": [
              "                      Title  \\\n",
              "0          Ayam Woku Manado   \n",
              "1  Ayam goreng tulang lunak   \n",
              "2          Ayam cabai kawin   \n",
              "3               Ayam Geprek   \n",
              "4               Minyak Ayam   \n",
              "\n",
              "                                         Ingredients  \\\n",
              "0  1 Ekor Ayam Kampung (potong 12)--2 Buah Jeruk ...   \n",
              "1  1 kg ayam (dipotong sesuai selera jangan kecil...   \n",
              "2  1/4 kg ayam--3 buah cabai hijau besar--7 buah ...   \n",
              "3  250 gr daging ayam (saya pakai fillet)--Secuku...   \n",
              "4  400 gr kulit ayam & lemaknya--8 siung bawang p...   \n",
              "\n",
              "                                               Steps  Loves  \\\n",
              "0  Cuci bersih ayam dan tiriskan. Lalu peras jeru...      1   \n",
              "1  Haluskan bumbu2nya (BaPut, ketumbar, kemiri, k...      1   \n",
              "2  Panaskan minyak di dalam wajan. Setelah minyak...      2   \n",
              "3  Goreng ayam seperti ayam krispi--Ulek semua ba...     10   \n",
              "4  Cuci bersih kulit ayam. Sisihkan--Ambil 50 ml ...      4   \n",
              "\n",
              "                                          URL  \\\n",
              "0          /id/resep/4473027-ayam-woku-manado   \n",
              "1  /id/resep/4471956-ayam-goreng-tulang-lunak   \n",
              "2          /id/resep/4473057-ayam-cabai-kawin   \n",
              "3               /id/resep/4473023-ayam-geprek   \n",
              "4               /id/resep/4427438-minyak-ayam   \n",
              "\n",
              "                                                text    category  \n",
              "0  Ayam Woku Manado 1 Ekor Ayam Kampung (potong 1...  Terjangkau  \n",
              "1  Ayam goreng tulang lunak 1 kg ayam (dipotong s...  Terjangkau  \n",
              "2  Ayam cabai kawin 1/4 kg ayam--3 buah cabai hij...  Terjangkau  \n",
              "3  Ayam Geprek 250 gr daging ayam (saya pakai fil...  Terjangkau  \n",
              "4  Minyak Ayam 400 gr kulit ayam & lemaknya--8 si...  Terjangkau  "
            ],
            "text/html": [
              "\n",
              "  <div id=\"df-e6230bde-531e-4eb6-a566-4cb55f530c72\">\n",
              "    <div class=\"colab-df-container\">\n",
              "      <div>\n",
              "<style scoped>\n",
              "    .dataframe tbody tr th:only-of-type {\n",
              "        vertical-align: middle;\n",
              "    }\n",
              "\n",
              "    .dataframe tbody tr th {\n",
              "        vertical-align: top;\n",
              "    }\n",
              "\n",
              "    .dataframe thead th {\n",
              "        text-align: right;\n",
              "    }\n",
              "</style>\n",
              "<table border=\"1\" class=\"dataframe\">\n",
              "  <thead>\n",
              "    <tr style=\"text-align: right;\">\n",
              "      <th></th>\n",
              "      <th>Title</th>\n",
              "      <th>Ingredients</th>\n",
              "      <th>Steps</th>\n",
              "      <th>Loves</th>\n",
              "      <th>URL</th>\n",
              "      <th>text</th>\n",
              "      <th>category</th>\n",
              "    </tr>\n",
              "  </thead>\n",
              "  <tbody>\n",
              "    <tr>\n",
              "      <th>0</th>\n",
              "      <td>Ayam Woku Manado</td>\n",
              "      <td>1 Ekor Ayam Kampung (potong 12)--2 Buah Jeruk ...</td>\n",
              "      <td>Cuci bersih ayam dan tiriskan. Lalu peras jeru...</td>\n",
              "      <td>1</td>\n",
              "      <td>/id/resep/4473027-ayam-woku-manado</td>\n",
              "      <td>Ayam Woku Manado 1 Ekor Ayam Kampung (potong 1...</td>\n",
              "      <td>Terjangkau</td>\n",
              "    </tr>\n",
              "    <tr>\n",
              "      <th>1</th>\n",
              "      <td>Ayam goreng tulang lunak</td>\n",
              "      <td>1 kg ayam (dipotong sesuai selera jangan kecil...</td>\n",
              "      <td>Haluskan bumbu2nya (BaPut, ketumbar, kemiri, k...</td>\n",
              "      <td>1</td>\n",
              "      <td>/id/resep/4471956-ayam-goreng-tulang-lunak</td>\n",
              "      <td>Ayam goreng tulang lunak 1 kg ayam (dipotong s...</td>\n",
              "      <td>Terjangkau</td>\n",
              "    </tr>\n",
              "    <tr>\n",
              "      <th>2</th>\n",
              "      <td>Ayam cabai kawin</td>\n",
              "      <td>1/4 kg ayam--3 buah cabai hijau besar--7 buah ...</td>\n",
              "      <td>Panaskan minyak di dalam wajan. Setelah minyak...</td>\n",
              "      <td>2</td>\n",
              "      <td>/id/resep/4473057-ayam-cabai-kawin</td>\n",
              "      <td>Ayam cabai kawin 1/4 kg ayam--3 buah cabai hij...</td>\n",
              "      <td>Terjangkau</td>\n",
              "    </tr>\n",
              "    <tr>\n",
              "      <th>3</th>\n",
              "      <td>Ayam Geprek</td>\n",
              "      <td>250 gr daging ayam (saya pakai fillet)--Secuku...</td>\n",
              "      <td>Goreng ayam seperti ayam krispi--Ulek semua ba...</td>\n",
              "      <td>10</td>\n",
              "      <td>/id/resep/4473023-ayam-geprek</td>\n",
              "      <td>Ayam Geprek 250 gr daging ayam (saya pakai fil...</td>\n",
              "      <td>Terjangkau</td>\n",
              "    </tr>\n",
              "    <tr>\n",
              "      <th>4</th>\n",
              "      <td>Minyak Ayam</td>\n",
              "      <td>400 gr kulit ayam &amp; lemaknya--8 siung bawang p...</td>\n",
              "      <td>Cuci bersih kulit ayam. Sisihkan--Ambil 50 ml ...</td>\n",
              "      <td>4</td>\n",
              "      <td>/id/resep/4427438-minyak-ayam</td>\n",
              "      <td>Minyak Ayam 400 gr kulit ayam &amp; lemaknya--8 si...</td>\n",
              "      <td>Terjangkau</td>\n",
              "    </tr>\n",
              "  </tbody>\n",
              "</table>\n",
              "</div>\n",
              "      <button class=\"colab-df-convert\" onclick=\"convertToInteractive('df-e6230bde-531e-4eb6-a566-4cb55f530c72')\"\n",
              "              title=\"Convert this dataframe to an interactive table.\"\n",
              "              style=\"display:none;\">\n",
              "        \n",
              "  <svg xmlns=\"http://www.w3.org/2000/svg\" height=\"24px\"viewBox=\"0 0 24 24\"\n",
              "       width=\"24px\">\n",
              "    <path d=\"M0 0h24v24H0V0z\" fill=\"none\"/>\n",
              "    <path d=\"M18.56 5.44l.94 2.06.94-2.06 2.06-.94-2.06-.94-.94-2.06-.94 2.06-2.06.94zm-11 1L8.5 8.5l.94-2.06 2.06-.94-2.06-.94L8.5 2.5l-.94 2.06-2.06.94zm10 10l.94 2.06.94-2.06 2.06-.94-2.06-.94-.94-2.06-.94 2.06-2.06.94z\"/><path d=\"M17.41 7.96l-1.37-1.37c-.4-.4-.92-.59-1.43-.59-.52 0-1.04.2-1.43.59L10.3 9.45l-7.72 7.72c-.78.78-.78 2.05 0 2.83L4 21.41c.39.39.9.59 1.41.59.51 0 1.02-.2 1.41-.59l7.78-7.78 2.81-2.81c.8-.78.8-2.07 0-2.86zM5.41 20L4 18.59l7.72-7.72 1.47 1.35L5.41 20z\"/>\n",
              "  </svg>\n",
              "      </button>\n",
              "      \n",
              "  <style>\n",
              "    .colab-df-container {\n",
              "      display:flex;\n",
              "      flex-wrap:wrap;\n",
              "      gap: 12px;\n",
              "    }\n",
              "\n",
              "    .colab-df-convert {\n",
              "      background-color: #E8F0FE;\n",
              "      border: none;\n",
              "      border-radius: 50%;\n",
              "      cursor: pointer;\n",
              "      display: none;\n",
              "      fill: #1967D2;\n",
              "      height: 32px;\n",
              "      padding: 0 0 0 0;\n",
              "      width: 32px;\n",
              "    }\n",
              "\n",
              "    .colab-df-convert:hover {\n",
              "      background-color: #E2EBFA;\n",
              "      box-shadow: 0px 1px 2px rgba(60, 64, 67, 0.3), 0px 1px 3px 1px rgba(60, 64, 67, 0.15);\n",
              "      fill: #174EA6;\n",
              "    }\n",
              "\n",
              "    [theme=dark] .colab-df-convert {\n",
              "      background-color: #3B4455;\n",
              "      fill: #D2E3FC;\n",
              "    }\n",
              "\n",
              "    [theme=dark] .colab-df-convert:hover {\n",
              "      background-color: #434B5C;\n",
              "      box-shadow: 0px 1px 3px 1px rgba(0, 0, 0, 0.15);\n",
              "      filter: drop-shadow(0px 1px 2px rgba(0, 0, 0, 0.3));\n",
              "      fill: #FFFFFF;\n",
              "    }\n",
              "  </style>\n",
              "\n",
              "      <script>\n",
              "        const buttonEl =\n",
              "          document.querySelector('#df-e6230bde-531e-4eb6-a566-4cb55f530c72 button.colab-df-convert');\n",
              "        buttonEl.style.display =\n",
              "          google.colab.kernel.accessAllowed ? 'block' : 'none';\n",
              "\n",
              "        async function convertToInteractive(key) {\n",
              "          const element = document.querySelector('#df-e6230bde-531e-4eb6-a566-4cb55f530c72');\n",
              "          const dataTable =\n",
              "            await google.colab.kernel.invokeFunction('convertToInteractive',\n",
              "                                                     [key], {});\n",
              "          if (!dataTable) return;\n",
              "\n",
              "          const docLinkHtml = 'Like what you see? Visit the ' +\n",
              "            '<a target=\"_blank\" href=https://colab.research.google.com/notebooks/data_table.ipynb>data table notebook</a>'\n",
              "            + ' to learn more about interactive tables.';\n",
              "          element.innerHTML = '';\n",
              "          dataTable['output_type'] = 'display_data';\n",
              "          await google.colab.output.renderOutput(dataTable, element);\n",
              "          const docLink = document.createElement('div');\n",
              "          docLink.innerHTML = docLinkHtml;\n",
              "          element.appendChild(docLink);\n",
              "        }\n",
              "      </script>\n",
              "    </div>\n",
              "  </div>\n",
              "  "
            ]
          },
          "metadata": {},
          "execution_count": 21
        }
      ]
    },
    {
      "cell_type": "markdown",
      "source": [
        "# Input Data 1"
      ],
      "metadata": {
        "id": "EfnfgUWPLE4x"
      }
    },
    {
      "cell_type": "code",
      "source": [
        "def get_recommendations_by_price_and_ingredients(price_input, ingredients, top_k=5):\n",
        "    if price_input <= 30000:\n",
        "        price_category = 'Murah'\n",
        "    elif 30000 < price_input <= 90000:\n",
        "        price_category = 'Terjangkau'\n",
        "    else:\n",
        "        price_category = 'Mahal'\n",
        "\n",
        "    # Filter dataset berdasarkan kategori harga\n",
        "    filtered_df = indofood_new[indofood_new['category'] == price_category]\n",
        "\n",
        "    filtered_df['text'] = filtered_df['Title'] + ' ' + filtered_df['Ingredients'] + ' ' + filtered_df['Steps']\n",
        "\n",
        "    vectorizer = TfidfVectorizer(analyzer='word',\n",
        "                                 ngram_range=(1, 2),\n",
        "                                 min_df=0.003,\n",
        "                                 max_df=0.5,\n",
        "                                 max_features=5000)\n",
        "\n",
        "    tfidf_matrix = vectorizer.fit_transform(filtered_df['text'])\n",
        "    tfidf_feature_names = vectorizer.get_feature_names_out()\n",
        "\n",
        "    input_vector = vectorizer.transform([ingredients])\n",
        "\n",
        "    similarity_scores = cosine_similarity(input_vector, tfidf_matrix)\n",
        "\n",
        "    top_indices = similarity_scores.argsort()[0][-top_k:][::-1]\n",
        "\n",
        "    recommendations = filtered_df.iloc[top_indices][['Title', 'Ingredients', 'Steps']]\n",
        "\n",
        "    return recommendations"
      ],
      "metadata": {
        "id": "8piaB-1rLD5-"
      },
      "execution_count": 24,
      "outputs": []
    },
    {
      "cell_type": "code",
      "source": [
        "input_price = int(input(\"Masukkan nominal: \"))\n",
        "input_ingredients = input(\"Masukkan bahan yang diinginkan: \")"
      ],
      "metadata": {
        "colab": {
          "base_uri": "https://localhost:8080/"
        },
        "id": "OANenJeiLTK-",
        "outputId": "43b0e325-4780-4178-cde9-23a7dfc1b897"
      },
      "execution_count": 25,
      "outputs": [
        {
          "name": "stdout",
          "output_type": "stream",
          "text": [
            "Masukkan nominal: 53000\n",
            "Masukkan bahan yang diinginkan: tepung terigu, garama\n"
          ]
        }
      ]
    },
    {
      "cell_type": "code",
      "source": [
        "recommendations = get_recommendations_by_price_and_ingredients(input_price, input_ingredients)\n",
        "\n",
        "print(\"Rekomendasi berdasarkan harga dan bahan:\")\n",
        "print(recommendations)"
      ],
      "metadata": {
        "colab": {
          "base_uri": "https://localhost:8080/"
        },
        "id": "ceZofdKqLUZ6",
        "outputId": "2be36299-f9cf-4d02-f766-299b43cdafed"
      },
      "execution_count": 28,
      "outputs": [
        {
          "output_type": "stream",
          "name": "stderr",
          "text": [
            "<ipython-input-24-9ffa55bc15cc>:12: SettingWithCopyWarning: \n",
            "A value is trying to be set on a copy of a slice from a DataFrame.\n",
            "Try using .loc[row_indexer,col_indexer] = value instead\n",
            "\n",
            "See the caveats in the documentation: https://pandas.pydata.org/pandas-docs/stable/user_guide/indexing.html#returning-a-view-versus-a-copy\n",
            "  filtered_df['text'] = filtered_df['Title'] + ' ' + filtered_df['Ingredients'] + ' ' + filtered_df['Steps']\n"
          ]
        },
        {
          "output_type": "stream",
          "name": "stdout",
          "text": [
            "Rekomendasi berdasarkan harga dan bahan:\n",
            "                                      Title  \\\n",
            "891                          Chicken nugget   \n",
            "1892  Crispy fried egg (telor dadar crispy)   \n",
            "305                             Tahu krispi   \n",
            "423                 Nugget Ayam Keju Wortel   \n",
            "359               Ayam goreng tepung tasty🤤   \n",
            "\n",
            "                                            Ingredients  \\\n",
            "891   300 gram ayam fillet--1 buah wortel--50 ml air...   \n",
            "1892  Bahan Adonan Telur Dadar :--2 butir telur--7 s...   \n",
            "305   Tahu--Tepung kobe original--Tepung terigu--Min...   \n",
            "423   250 gr ayam cincang--75 gr keju cheddar--1 bh ...   \n",
            "359   300 gr ayam kurang lebih dipotong2--Bumbu ungk...   \n",
            "\n",
            "                                                  Steps  \n",
            "891   Blender daging ayam yang sudah di potong poton...  \n",
            "1892  Adonan telur : Masukkan tepung terigu dalam ma...  \n",
            "305   Masukkan 5 sendok makan tepung kobe dan 2 send...  \n",
            "423   Siapkan daging ayam cincang pada wadah, masuka...  \n",
            "359   Haluskan bumbu halus campur garam, gula dan me...  \n"
          ]
        }
      ]
    },
    {
      "cell_type": "markdown",
      "source": [
        "# Input Data 2\n",
        "\n"
      ],
      "metadata": {
        "id": "2pyB2_e9KzEG"
      }
    },
    {
      "cell_type": "code",
      "source": [
        "cat = input(\"Masukkan bahan yang diinginkan: \")"
      ],
      "metadata": {
        "colab": {
          "base_uri": "https://localhost:8080/"
        },
        "id": "fdpE6hCSUSRd",
        "outputId": "e3c1f732-16e0-4d92-ed83-067da00dbea2"
      },
      "execution_count": 32,
      "outputs": [
        {
          "name": "stdout",
          "output_type": "stream",
          "text": [
            "Masukkan bahan yang diinginkan: tepung terigu\n"
          ]
        }
      ]
    },
    {
      "cell_type": "code",
      "source": [
        "tmp = indofood_new[indofood_new['Ingredients'].str.contains(cat)].head(10)\n",
        "tmp[['Title', 'Ingredients', 'Steps', 'category']]"
      ],
      "metadata": {
        "colab": {
          "base_uri": "https://localhost:8080/",
          "height": 363
        },
        "id": "DWDDSJCJUThb",
        "outputId": "48420005-9f97-43d7-d687-e150b8079c4e"
      },
      "execution_count": 33,
      "outputs": [
        {
          "output_type": "execute_result",
          "data": {
            "text/plain": [
              "                             Title  \\\n",
              "9      Ayam Saos Asam Manis Simple   \n",
              "10   Mie Ayam Homemade by suami😂😂😂   \n",
              "20                     Ayam Koloke   \n",
              "27              Nugget Ayam Wortel   \n",
              "33              Ayam goreng krutuk   \n",
              "37  Mie Geprek (Mie + ayam geprek)   \n",
              "43       Ayam goreng tepung simple   \n",
              "48     Ayam Tepung KFC super gurih   \n",
              "51              Risoles rogut ayam   \n",
              "53                     Ayam tepung   \n",
              "\n",
              "                                          Ingredients  \\\n",
              "9   1/4 kg Ayam bagian dada fillet (Potong dadu)--...   \n",
              "10  Bahan mie ayam :--1 kg tepung terigu proteiin ...   \n",
              "20  250 gr ayam fillet, potong-potong--2 sdm tepun...   \n",
              "27  250 gram daging ayam giling--1 buah wortel uku...   \n",
              "33  tepung terigu--Air matang--ayam (yg sudah dire...   \n",
              "37  1 bungkus mie burung dara--1 ons dada ayam--te...   \n",
              "43  500 gram ayam dada potong2--6 siung bawang put...   \n",
              "48  4 potong ayam (paha atas atau paha bawah)--1 S...   \n",
              "51  Bahan isian:--3 buah kentang, kukus dan tumbuk...   \n",
              "53  1 kg ayam--500 gram tepung terigu--secukupnya ...   \n",
              "\n",
              "                                                Steps    category  \n",
              "9   Lumuri ayam yg sdh dipotong dadu dgn garam & p...  Terjangkau  \n",
              "10  Kocok telur masukan garam n minyak goreng,aduk...  Terjangkau  \n",
              "20  Marinade ayam dgn tepung bumbu serbaguna yg su...  Terjangkau  \n",
              "27  Potong-potong bawang bombay dan bawang putih. ...  Terjangkau  \n",
              "33  Campur tepung terigu(kurang lebih 1/2 mangkuk ...  Terjangkau  \n",
              "37  Rebus mie burung dara, tiriskan--Geprek bawang...  Terjangkau  \n",
              "43  Potong ayam sesuai selera, aku pake ayam dada ...  Terjangkau  \n",
              "48  Marinade Ayam dengan air lemon, black papper D...  Terjangkau  \n",
              "51  Aduk rata kentang kukus yang sudah dihaluskan,...  Terjangkau  \n",
              "53  Bersih kan ayam potong jadi 14--Haluskan,bawan...  Terjangkau  "
            ],
            "text/html": [
              "\n",
              "  <div id=\"df-64d5f185-d957-47b1-8288-68ea6f209c8c\">\n",
              "    <div class=\"colab-df-container\">\n",
              "      <div>\n",
              "<style scoped>\n",
              "    .dataframe tbody tr th:only-of-type {\n",
              "        vertical-align: middle;\n",
              "    }\n",
              "\n",
              "    .dataframe tbody tr th {\n",
              "        vertical-align: top;\n",
              "    }\n",
              "\n",
              "    .dataframe thead th {\n",
              "        text-align: right;\n",
              "    }\n",
              "</style>\n",
              "<table border=\"1\" class=\"dataframe\">\n",
              "  <thead>\n",
              "    <tr style=\"text-align: right;\">\n",
              "      <th></th>\n",
              "      <th>Title</th>\n",
              "      <th>Ingredients</th>\n",
              "      <th>Steps</th>\n",
              "      <th>category</th>\n",
              "    </tr>\n",
              "  </thead>\n",
              "  <tbody>\n",
              "    <tr>\n",
              "      <th>9</th>\n",
              "      <td>Ayam Saos Asam Manis Simple</td>\n",
              "      <td>1/4 kg Ayam bagian dada fillet (Potong dadu)--...</td>\n",
              "      <td>Lumuri ayam yg sdh dipotong dadu dgn garam &amp; p...</td>\n",
              "      <td>Terjangkau</td>\n",
              "    </tr>\n",
              "    <tr>\n",
              "      <th>10</th>\n",
              "      <td>Mie Ayam Homemade by suami😂😂😂</td>\n",
              "      <td>Bahan mie ayam :--1 kg tepung terigu proteiin ...</td>\n",
              "      <td>Kocok telur masukan garam n minyak goreng,aduk...</td>\n",
              "      <td>Terjangkau</td>\n",
              "    </tr>\n",
              "    <tr>\n",
              "      <th>20</th>\n",
              "      <td>Ayam Koloke</td>\n",
              "      <td>250 gr ayam fillet, potong-potong--2 sdm tepun...</td>\n",
              "      <td>Marinade ayam dgn tepung bumbu serbaguna yg su...</td>\n",
              "      <td>Terjangkau</td>\n",
              "    </tr>\n",
              "    <tr>\n",
              "      <th>27</th>\n",
              "      <td>Nugget Ayam Wortel</td>\n",
              "      <td>250 gram daging ayam giling--1 buah wortel uku...</td>\n",
              "      <td>Potong-potong bawang bombay dan bawang putih. ...</td>\n",
              "      <td>Terjangkau</td>\n",
              "    </tr>\n",
              "    <tr>\n",
              "      <th>33</th>\n",
              "      <td>Ayam goreng krutuk</td>\n",
              "      <td>tepung terigu--Air matang--ayam (yg sudah dire...</td>\n",
              "      <td>Campur tepung terigu(kurang lebih 1/2 mangkuk ...</td>\n",
              "      <td>Terjangkau</td>\n",
              "    </tr>\n",
              "    <tr>\n",
              "      <th>37</th>\n",
              "      <td>Mie Geprek (Mie + ayam geprek)</td>\n",
              "      <td>1 bungkus mie burung dara--1 ons dada ayam--te...</td>\n",
              "      <td>Rebus mie burung dara, tiriskan--Geprek bawang...</td>\n",
              "      <td>Terjangkau</td>\n",
              "    </tr>\n",
              "    <tr>\n",
              "      <th>43</th>\n",
              "      <td>Ayam goreng tepung simple</td>\n",
              "      <td>500 gram ayam dada potong2--6 siung bawang put...</td>\n",
              "      <td>Potong ayam sesuai selera, aku pake ayam dada ...</td>\n",
              "      <td>Terjangkau</td>\n",
              "    </tr>\n",
              "    <tr>\n",
              "      <th>48</th>\n",
              "      <td>Ayam Tepung KFC super gurih</td>\n",
              "      <td>4 potong ayam (paha atas atau paha bawah)--1 S...</td>\n",
              "      <td>Marinade Ayam dengan air lemon, black papper D...</td>\n",
              "      <td>Terjangkau</td>\n",
              "    </tr>\n",
              "    <tr>\n",
              "      <th>51</th>\n",
              "      <td>Risoles rogut ayam</td>\n",
              "      <td>Bahan isian:--3 buah kentang, kukus dan tumbuk...</td>\n",
              "      <td>Aduk rata kentang kukus yang sudah dihaluskan,...</td>\n",
              "      <td>Terjangkau</td>\n",
              "    </tr>\n",
              "    <tr>\n",
              "      <th>53</th>\n",
              "      <td>Ayam tepung</td>\n",
              "      <td>1 kg ayam--500 gram tepung terigu--secukupnya ...</td>\n",
              "      <td>Bersih kan ayam potong jadi 14--Haluskan,bawan...</td>\n",
              "      <td>Terjangkau</td>\n",
              "    </tr>\n",
              "  </tbody>\n",
              "</table>\n",
              "</div>\n",
              "      <button class=\"colab-df-convert\" onclick=\"convertToInteractive('df-64d5f185-d957-47b1-8288-68ea6f209c8c')\"\n",
              "              title=\"Convert this dataframe to an interactive table.\"\n",
              "              style=\"display:none;\">\n",
              "        \n",
              "  <svg xmlns=\"http://www.w3.org/2000/svg\" height=\"24px\"viewBox=\"0 0 24 24\"\n",
              "       width=\"24px\">\n",
              "    <path d=\"M0 0h24v24H0V0z\" fill=\"none\"/>\n",
              "    <path d=\"M18.56 5.44l.94 2.06.94-2.06 2.06-.94-2.06-.94-.94-2.06-.94 2.06-2.06.94zm-11 1L8.5 8.5l.94-2.06 2.06-.94-2.06-.94L8.5 2.5l-.94 2.06-2.06.94zm10 10l.94 2.06.94-2.06 2.06-.94-2.06-.94-.94-2.06-.94 2.06-2.06.94z\"/><path d=\"M17.41 7.96l-1.37-1.37c-.4-.4-.92-.59-1.43-.59-.52 0-1.04.2-1.43.59L10.3 9.45l-7.72 7.72c-.78.78-.78 2.05 0 2.83L4 21.41c.39.39.9.59 1.41.59.51 0 1.02-.2 1.41-.59l7.78-7.78 2.81-2.81c.8-.78.8-2.07 0-2.86zM5.41 20L4 18.59l7.72-7.72 1.47 1.35L5.41 20z\"/>\n",
              "  </svg>\n",
              "      </button>\n",
              "      \n",
              "  <style>\n",
              "    .colab-df-container {\n",
              "      display:flex;\n",
              "      flex-wrap:wrap;\n",
              "      gap: 12px;\n",
              "    }\n",
              "\n",
              "    .colab-df-convert {\n",
              "      background-color: #E8F0FE;\n",
              "      border: none;\n",
              "      border-radius: 50%;\n",
              "      cursor: pointer;\n",
              "      display: none;\n",
              "      fill: #1967D2;\n",
              "      height: 32px;\n",
              "      padding: 0 0 0 0;\n",
              "      width: 32px;\n",
              "    }\n",
              "\n",
              "    .colab-df-convert:hover {\n",
              "      background-color: #E2EBFA;\n",
              "      box-shadow: 0px 1px 2px rgba(60, 64, 67, 0.3), 0px 1px 3px 1px rgba(60, 64, 67, 0.15);\n",
              "      fill: #174EA6;\n",
              "    }\n",
              "\n",
              "    [theme=dark] .colab-df-convert {\n",
              "      background-color: #3B4455;\n",
              "      fill: #D2E3FC;\n",
              "    }\n",
              "\n",
              "    [theme=dark] .colab-df-convert:hover {\n",
              "      background-color: #434B5C;\n",
              "      box-shadow: 0px 1px 3px 1px rgba(0, 0, 0, 0.15);\n",
              "      filter: drop-shadow(0px 1px 2px rgba(0, 0, 0, 0.3));\n",
              "      fill: #FFFFFF;\n",
              "    }\n",
              "  </style>\n",
              "\n",
              "      <script>\n",
              "        const buttonEl =\n",
              "          document.querySelector('#df-64d5f185-d957-47b1-8288-68ea6f209c8c button.colab-df-convert');\n",
              "        buttonEl.style.display =\n",
              "          google.colab.kernel.accessAllowed ? 'block' : 'none';\n",
              "\n",
              "        async function convertToInteractive(key) {\n",
              "          const element = document.querySelector('#df-64d5f185-d957-47b1-8288-68ea6f209c8c');\n",
              "          const dataTable =\n",
              "            await google.colab.kernel.invokeFunction('convertToInteractive',\n",
              "                                                     [key], {});\n",
              "          if (!dataTable) return;\n",
              "\n",
              "          const docLinkHtml = 'Like what you see? Visit the ' +\n",
              "            '<a target=\"_blank\" href=https://colab.research.google.com/notebooks/data_table.ipynb>data table notebook</a>'\n",
              "            + ' to learn more about interactive tables.';\n",
              "          element.innerHTML = '';\n",
              "          dataTable['output_type'] = 'display_data';\n",
              "          await google.colab.output.renderOutput(dataTable, element);\n",
              "          const docLink = document.createElement('div');\n",
              "          docLink.innerHTML = docLinkHtml;\n",
              "          element.appendChild(docLink);\n",
              "        }\n",
              "      </script>\n",
              "    </div>\n",
              "  </div>\n",
              "  "
            ]
          },
          "metadata": {},
          "execution_count": 33
        }
      ]
    },
    {
      "cell_type": "code",
      "source": [
        "# Menginputkan nominal dari pengguna\n",
        "nominal_input = int(input(\"Masukkan nominal: \"))"
      ],
      "metadata": {
        "colab": {
          "base_uri": "https://localhost:8080/"
        },
        "id": "P9qyfsLmUU9l",
        "outputId": "17de922e-9cd8-4d21-bb74-13ca2e3f2bfb"
      },
      "execution_count": 34,
      "outputs": [
        {
          "name": "stdout",
          "output_type": "stream",
          "text": [
            "Masukkan nominal: 25000\n"
          ]
        }
      ]
    },
    {
      "cell_type": "code",
      "source": [
        "# Mengkategorikan berdasarkan nominal\n",
        "if nominal_input <= 30000:\n",
        "    category = 'Murah'\n",
        "elif 30000 < nominal_input <= 90000:\n",
        "    category = 'Terjangkau'\n",
        "else:\n",
        "    category = 'Mahal'"
      ],
      "metadata": {
        "id": "psMmi97qUWNY"
      },
      "execution_count": 35,
      "outputs": []
    },
    {
      "cell_type": "code",
      "source": [
        "# Filter dan menampilkan data berdasarkan kategori\n",
        "df_filtered = indofood_new.loc[indofood_new['category'] == category, ['Title', 'Ingredients', 'Steps']]\n",
        "\n",
        "if not df_filtered.empty:\n",
        "    print(f\"Data yang termasuk kategori '{category}':\")\n",
        "    print(df_filtered[['Title', 'Ingredients', 'Steps']])\n",
        "else:\n",
        "    print(f\"Tidak ada data yang termasuk kategori '{category}'\")"
      ],
      "metadata": {
        "colab": {
          "base_uri": "https://localhost:8080/"
        },
        "id": "-P-MBnkdUYwG",
        "outputId": "6f4a4d8a-b7a6-438e-e3d5-ee4748bd0265"
      },
      "execution_count": 36,
      "outputs": [
        {
          "output_type": "stream",
          "name": "stdout",
          "text": [
            "Data yang termasuk kategori 'Murah':\n",
            "                                            Title  \\\n",
            "101               Ayam Dan Tempe Goreng Serundeng   \n",
            "171                      Ayam goreng sambal matah   \n",
            "403               Sayur tempe, terong & hati ayam   \n",
            "530                 Ayam & Tempe Geprek Keju Melt   \n",
            "540                  Ayam dan Tempe Goreng Kunyit   \n",
            "...                                           ...   \n",
            "1646                            Oseng Tempe Udang   \n",
            "1758  Tauco Udang 🦐 (Terong,Tempe,Kacang Panjang)   \n",
            "1799            Udang & Tempe bakar sambel kencur   \n",
            "1811                     Tumis kacang tempe udang   \n",
            "1912         Udang dan tempe penyet sambel terasi   \n",
            "\n",
            "                                            Ingredients  \\\n",
            "101   1 dada ayam--1/2 kelapa parut--2 tempe (potong...   \n",
            "171   Ayam kampung paha dan dada--1 sachet bumbu aya...   \n",
            "403   5 hati ayam (rebus)--1 papan tempe (potong2)--...   \n",
            "530   4 Paha atas Ayam--6 iris tempe--Bahan bumbu ay...   \n",
            "540   1/2 ekor ayam, potong 6--1/2 papan tempe, poto...   \n",
            "...                                                 ...   \n",
            "1646  4 buah kacang panjang, potong2--1 papan tempe,...   \n",
            "1758  1/4 udang (buang pala & ekor)--2 bh Terong ung...   \n",
            "1799  Udang--Tempe (yg sudah di kukus)--Bahan sambel...   \n",
            "1811  Udang segar--1 genggam Kacang panjang--1 batan...   \n",
            "1912  1/4 kg udang ukuran sedang (cuci bersih)--1 pa...   \n",
            "\n",
            "                                                  Steps  \n",
            "101   Setelah ayam dicuci bersih, didihkan air. Masu...  \n",
            "171   Cuci bersih ayam, lalu ungkep dengan bumbu roy...  \n",
            "403   Haluskan duo bawang, kemiri, ketumbar, cabe ra...  \n",
            "530   Potong2 tempe. Sisihkan.--Geprek 2 siung bawan...  \n",
            "540   Haluskan bumbu (saya dengan blender+stengah ge...  \n",
            "...                                                 ...  \n",
            "1646  Potong2 tempe sesuai selera lalu goreng.--Tumi...  \n",
            "1758  Cuci udang hingga bersih beri perasan jeruk ni...  \n",
            "1799  Bakar udang yg sudah di cuci bersih dan tempe ...  \n",
            "1811  Cuci bersih dan kupas udang--Potong tempe dan ...  \n",
            "1912  Larutkan bumbu racik dengan air lalu rendam te...  \n",
            "\n",
            "[2187 rows x 3 columns]\n"
          ]
        }
      ]
    },
    {
      "cell_type": "markdown",
      "source": [
        "# Save Model"
      ],
      "metadata": {
        "id": "EW-BYuJ6Mqwa"
      }
    },
    {
      "cell_type": "code",
      "source": [
        "# save the model to disk\n",
        "filename = 'finmodel.sav'\n",
        "pickle.dump(kmeans, open(filename, 'wb'))"
      ],
      "metadata": {
        "id": "1fyhmkwtUAk5"
      },
      "execution_count": null,
      "outputs": []
    },
    {
      "cell_type": "code",
      "source": [
        "indofood_new.to_csv('dataresep_new.csv', index=False)"
      ],
      "metadata": {
        "id": "xsPn3PEaN4Gs"
      },
      "execution_count": 38,
      "outputs": []
    }
  ]
}